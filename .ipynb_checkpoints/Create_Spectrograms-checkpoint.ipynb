{
 "cells": [
  {
   "cell_type": "code",
   "execution_count": 1,
   "metadata": {},
   "outputs": [],
   "source": [
    "import pandas as pd\n",
    "import os\n",
    "import librosa\n",
    "import IPython.display as ipd\n",
    "import numpy as np\n",
    "import librosa.display as libdisp\n",
    "import matplotlib.pyplot as plt\n",
    "\n",
    "%matplotlib inline"
   ]
  },
  {
   "cell_type": "code",
   "execution_count": 2,
   "metadata": {},
   "outputs": [],
   "source": [
    "tracks_dir = \"data/train_audio/\"\n",
    "\n",
    "train_csv_dir = \"data/train.csv\"\n",
    "test_csv_dir = \"data/test.csv\"\n",
    "\n",
    "train_df = pd.read_csv(train_csv_dir)\n",
    "test_df = pd.read_csv(test_csv_dir)"
   ]
  },
  {
   "cell_type": "code",
   "execution_count": 3,
   "metadata": {},
   "outputs": [],
   "source": [
    "train_save_dir = \"data/Spectrum_Images/Train/\"\n",
    "test_save_dir = \"data/Spectrum_Images/Test/\""
   ]
  },
  {
   "cell_type": "code",
   "execution_count": 4,
   "metadata": {},
   "outputs": [],
   "source": [
    "def create_spectrogram(df, start_time, duration, mode):  \n",
    "\n",
    "    if mode== 'train':\n",
    "        filepath = (tracks_dir +df[2] +'/' +df[7])\n",
    "\n",
    "    if mode== 'test':\n",
    "        filepath = (tracks_dir +df[3] +'.mp3') \n",
    "    \n",
    "    try:\n",
    "        fig = plt.figure(figsize=[4,4])\n",
    "        filename = filepath.split('/')[-1].split('.')[0]\n",
    "        clip, sample_rate = librosa.load(filepath, sr=None, offset=start_time, duration=duration)\n",
    "        S = librosa.feature.melspectrogram(y=clip, sr=sample_rate)\n",
    "        libdisp.specshow(librosa.power_to_db(S, ref=np.max))\n",
    "\n",
    "        if mode== 'train':\n",
    "            \n",
    "            if not os.path.exists(train_save_dir +df[2]):\n",
    "                os.makedirs(train_save_dir +df[2] +'/')\n",
    "            plt.savefig((train_save_dir + df[2] +'/' +filename +'.jpg'), bbox_inches='tight',pad_inches=0, facecolor='black')\n",
    "        \n",
    "        if mode== 'test':\n",
    "            \n",
    "            if not os.path.exists(test_save_dir):\n",
    "                os.makedirs(test_save_dir) \n",
    "            plt.savefig((test_save_dir +filename +'.jpg'), bbox_inches='tight',pad_inches=0, facecolor='black')\n",
    "        \n",
    "        fig.clear()          \n",
    "        plt.close(fig)\n",
    "        plt.close()\n",
    "        plt.close('all')     # These Lines are Very Important!! If not given, Server will run out of allocated Memory\n",
    "        plt.cla()\n",
    "        fig.clf()\n",
    "        plt.clf()\n",
    "        plt.close()\n",
    "    \n",
    "    except:\n",
    "        print(\"found a broken Audio File\")"
   ]
  },
  {
   "cell_type": "code",
   "execution_count": 5,
   "metadata": {
    "scrolled": true
   },
   "outputs": [
    {
     "name": "stdout",
     "output_type": "stream",
     "text": [
      "found a broken Audio File\n",
      "found a broken Audio File\n",
      "found a broken Audio File\n",
      "found a broken Audio File\n",
      "found a broken Audio File\n",
      "found a broken Audio File\n",
      "found a broken Audio File\n",
      "found a broken Audio File\n",
      "found a broken Audio File\n",
      "found a broken Audio File\n",
      "found a broken Audio File\n",
      "found a broken Audio File\n",
      "found a broken Audio File\n",
      "found a broken Audio File\n",
      "found a broken Audio File\n",
      "found a broken Audio File\n",
      "found a broken Audio File\n",
      "found a broken Audio File\n",
      "found a broken Audio File\n",
      "found a broken Audio File\n",
      "found a broken Audio File\n",
      "found a broken Audio File\n",
      "found a broken Audio File\n",
      "found a broken Audio File\n",
      "found a broken Audio File\n",
      "found a broken Audio File\n",
      "found a broken Audio File\n",
      "found a broken Audio File\n",
      "found a broken Audio File\n",
      "found a broken Audio File\n",
      "found a broken Audio File\n",
      "found a broken Audio File\n",
      "found a broken Audio File\n",
      "found a broken Audio File\n",
      "found a broken Audio File\n"
     ]
    },
    {
     "data": {
      "text/plain": [
       "<Figure size 288x288 with 0 Axes>"
      ]
     },
     "metadata": {},
     "output_type": "display_data"
    },
    {
     "data": {
      "text/plain": [
       "<Figure size 288x288 with 0 Axes>"
      ]
     },
     "metadata": {},
     "output_type": "display_data"
    },
    {
     "data": {
      "text/plain": [
       "<Figure size 288x288 with 0 Axes>"
      ]
     },
     "metadata": {},
     "output_type": "display_data"
    }
   ],
   "source": [
    "import warnings\n",
    "\n",
    "warnings.filterwarnings(\"ignore\")\n",
    "\n",
    "start_time= 0\n",
    "\n",
    "for row in train_df.values:\n",
    "    create_spectrogram(row, start_time, row[6], mode= 'train')\n",
    "\n",
    "for row in test_df.values:\n",
    "    if row[0]=='site_3' :\n",
    "        create_spectrogram(row, start_time, duration= None, mode= 'test')\n",
    "    else :\n",
    "        start_time = row[2] - 5\n",
    "        create_spectrogram(row, start_time, duration= 5, mode= 'test')"
   ]
  },
  {
   "cell_type": "code",
   "execution_count": null,
   "metadata": {},
   "outputs": [],
   "source": []
  },
  {
   "cell_type": "code",
   "execution_count": null,
   "metadata": {},
   "outputs": [],
   "source": []
  }
 ],
 "metadata": {
  "kernelspec": {
   "display_name": "Python 3",
   "language": "python",
   "name": "python3"
  },
  "language_info": {
   "codemirror_mode": {
    "name": "ipython",
    "version": 3
   },
   "file_extension": ".py",
   "mimetype": "text/x-python",
   "name": "python",
   "nbconvert_exporter": "python",
   "pygments_lexer": "ipython3",
   "version": "3.6.10"
  }
 },
 "nbformat": 4,
 "nbformat_minor": 4
}
